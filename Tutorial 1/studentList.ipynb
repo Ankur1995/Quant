{
 "cells": [
  {
   "cell_type": "code",
   "execution_count": null,
   "id": "8379e188-fd37-483b-a05a-a1357ab2f493",
   "metadata": {},
   "outputs": [],
   "source": [
    "studentList = {\n",
    "  \"name\": \"Ankur\",\n",
    "  \"surname\": \"Shanker\",\n",
    "  \"Age\": 26\n",
    "}\n"
   ]
  }
 ],
 "metadata": {
  "kernelspec": {
   "display_name": "Python 3 (ipykernel)",
   "language": "python",
   "name": "python3"
  },
  "language_info": {
   "codemirror_mode": {
    "name": "ipython",
    "version": 3
   },
   "file_extension": ".py",
   "mimetype": "text/x-python",
   "name": "python",
   "nbconvert_exporter": "python",
   "pygments_lexer": "ipython3",
   "version": "3.9.6"
  }
 },
 "nbformat": 4,
 "nbformat_minor": 5
}
