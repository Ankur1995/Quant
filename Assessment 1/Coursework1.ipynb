{
 "cells": [
  {
   "cell_type": "code",
   "execution_count": 1,
   "id": "2a081208-9508-4d2e-84b0-d9e073eadef6",
   "metadata": {},
   "outputs": [],
   "source": [
    "import pandas as pd"
   ]
  },
  {
   "cell_type": "code",
   "execution_count": 2,
   "id": "fa9a7cf2-d0de-48de-84a9-ff2eaa8ca4a0",
   "metadata": {},
   "outputs": [],
   "source": [
    "# Step 1: read the csv file provided\n",
    "coursework_csv=pd.read_csv(\"coursework_1_data_2019.csv\")"
   ]
  },
  {
   "cell_type": "code",
   "execution_count": 4,
   "id": "56f33e2f-8080-45fb-83f3-5cd92a94d427",
   "metadata": {},
   "outputs": [],
   "source": [
    "# Step 2: Derive a new coulmn total_budget_10_year that gives the total spending available to each local authortiy over the specificed decade (2008-2018)\n",
    "coursework_csv['total_budget_10_year']=coursework_csv['total_budget']*10"
   ]
  },
  {
   "cell_type": "code",
   "execution_count": 3,
   "id": "cff0708a-98aa-4186-9407-2aa09136efef",
   "metadata": {},
   "outputs": [],
   "source": [
    "# Step 3: Derive a new column media_awareness_10_year that gives the total spending on media awarenss for each local authority over the specified decade (2008-2018)\n",
    "coursework_csv['media_awareness_10_year']=coursework_csv['media_awareness']*10"
   ]
  },
  {
   "cell_type": "code",
   "execution_count": 5,
   "id": "66bdbffe-924b-4bbb-8d6b-a95312540467",
   "metadata": {},
   "outputs": [],
   "source": [
    "# Step 4: Derive a new column media_awareness_proportion that gives you the proportion of spending on media awareness over the specified decade (2008-2018) with respect to the total budget available\n",
    "coursework_csv['media_awareness_proportion']=coursework_csv['media_awareness_10_year']/coursework_csv['total_budget_10_year']"
   ]
  },
  {
   "cell_type": "code",
   "execution_count": 6,
   "id": "ff73a73b-c87d-4fa6-90f0-219990758752",
   "metadata": {},
   "outputs": [],
   "source": [
    "# Step 5: Derive a new column school_awareness_10_year that gives the total spending on school awarenss for each local authority over the specified decade (2008-2018)\n",
    "coursework_csv['school_awareness_10_year']=coursework_csv['school_awareness']*10"
   ]
  },
  {
   "cell_type": "code",
   "execution_count": 7,
   "id": "084fae41-e510-44bb-8ba6-2e0c0d43eb62",
   "metadata": {},
   "outputs": [],
   "source": [
    "# Step 6: Derive a new column school_awareness_proportion that gives you the proportion of spending on school awareness over the specified decade (2008-2018) with respect to the total budget available\n",
    "coursework_csv['school_awareness_proportion']=coursework_csv['school_awareness_10_year']/coursework_csv['total_budget_10_year']"
   ]
  },
  {
   "cell_type": "code",
   "execution_count": 8,
   "id": "9a9e051d-22a4-494a-8b0f-b9cd4f7838ab",
   "metadata": {},
   "outputs": [],
   "source": [
    "# Step 7: Derive a new column total_case_incidence_2008 which gives you the ratio of the number of childhood obesity cases to the total population in 2008\n",
    "coursework_csv['total_case_incidence_2008']=coursework_csv['2008_cases_total']/coursework_csv['2008_pop_total']"
   ]
  },
  {
   "cell_type": "code",
   "execution_count": 9,
   "id": "7954fcfa-9874-46d5-ae2b-b7be9e61f509",
   "metadata": {},
   "outputs": [],
   "source": [
    "# Step 8: Derive a new column total_case_incidence 2018 which gives you the ratio of the number of childhood obesity cases to the total population in 2018\n",
    "coursework_csv['total_case_incidence_2018']=coursework_csv['2018_cases_total']/coursework_csv['2018_pop_total']"
   ]
  },
  {
   "cell_type": "code",
   "execution_count": 10,
   "id": "03ec4cbf-40fb-432d-b708-c6fa1b521076",
   "metadata": {},
   "outputs": [],
   "source": [
    "# Step 9: Derive a new column difference_total_case_incidence which gives yo the diffrence between the incidence of childhood obesity in 2018 and the incidence of childhood obesity in 2008\n",
    "coursework_csv['difference_total_case_incidence']=coursework_csv['total_case_incidence_2018']-coursework_csv['total_case_incidence_2008']"
   ]
  },
  {
   "cell_type": "code",
   "execution_count": null,
   "id": "43a4ca7d-cf43-4f4a-bae5-39d0239bb836",
   "metadata": {},
   "outputs": [],
   "source": [
    "#NOTE:\n",
    "#Independent variables: school_awareness_proportion and media_awareness_proportion\n",
    "#Depdendent variables: difference_total_case_incidence"
   ]
  },
  {
   "cell_type": "code",
   "execution_count": 14,
   "id": "2aa0180c-2178-4e26-a30a-8631adad918a",
   "metadata": {},
   "outputs": [
    {
     "name": "stderr",
     "output_type": "stream",
     "text": [
      "/opt/conda/envs/sds2021/lib/python3.9/site-packages/statsmodels/tsa/tsatools.py:142: FutureWarning: In a future version of pandas all arguments of concat except for the argument 'objs' will be keyword-only\n",
      "  x = pd.concat(x[::order], 1)\n"
     ]
    }
   ],
   "source": [
    "# Step 10: Check multicolinearity between school awareness proportion and media_awareness_proportion (the dependent variables), function borrowed from QM tutrial\n",
    "from statsmodels.stats.outliers_influence import variance_inflation_factor \n",
    "from statsmodels.tools.tools import add_constant\n",
    "def drop_column_using_vif_(df, thresh=5):\n",
    "    '''\n",
    "    Calculates VIF each feature in a pandas dataframe, and repeatedly drop the columns with the highest VIF\n",
    "    A constant must be added to variance_inflation_factor or the results will be incorrect\n",
    "\n",
    "    :param df: the pandas dataframe containing only the predictor features, not the response variable\n",
    "    :param thresh: (default 5) the threshould VIF value. If the VIF of a variable is greater than thresh, it should be removed from the dataframe\n",
    "    :return: dataframe with multicollinear features removed\n",
    "    '''\n",
    "    while True:\n",
    "        # adding a constatnt item to the data\n",
    "        df_with_const = add_constant(df)\n",
    "\n",
    "        vif_df = pd.Series([variance_inflation_factor(df_with_const.values, i) \n",
    "               for i in range(df_with_const.shape[1])], name= \"VIF\",\n",
    "              index=df_with_const.columns).to_frame()\n",
    "\n",
    "        # drop the const\n",
    "        vif_df = vif_df.drop('const')\n",
    "        \n",
    "        # if the largest VIF is above the thresh, remove a variable with the largest VIF\n",
    "        # If there are multiple variabels with VIF>thresh, only one of them is removed. This is because we want to keep as many variables as possible\n",
    "        if vif_df.VIF.max() > thresh:\n",
    "            # If there are multiple variables with the maximum VIF, choose the first one\n",
    "            index_to_drop = vif_df.index[vif_df.VIF == vif_df.VIF.max()].tolist()[0]\n",
    "            print('Dropping: {}'.format(index_to_drop))\n",
    "            df = df.drop(columns = index_to_drop)\n",
    "        else:\n",
    "            # No VIF is above threshold. Exit the loop\n",
    "            break\n",
    "\n",
    "    return df\n",
    "new_df=drop_column_using_vif_(coursework_csv[['media_awareness_proportion', 'school_awareness_proportion']])\n"
   ]
  },
  {
   "cell_type": "code",
   "execution_count": 15,
   "id": "1b31a5bd-f083-4954-9972-7f8952908c68",
   "metadata": {},
   "outputs": [
    {
     "data": {
      "text/html": [
       "<table class=\"simpletable\">\n",
       "<caption>OLS Regression Results</caption>\n",
       "<tr>\n",
       "  <th>Dep. Variable:</th>    <td>difference_total_case_incidence</td> <th>  R-squared:         </th> <td>   0.144</td>\n",
       "</tr>\n",
       "<tr>\n",
       "  <th>Model:</th>                          <td>OLS</td>               <th>  Adj. R-squared:    </th> <td>   0.132</td>\n",
       "</tr>\n",
       "<tr>\n",
       "  <th>Method:</th>                    <td>Least Squares</td>          <th>  F-statistic:       </th> <td>   12.53</td>\n",
       "</tr>\n",
       "<tr>\n",
       "  <th>Date:</th>                    <td>Fri, 12 Nov 2021</td>         <th>  Prob (F-statistic):</th> <td>9.33e-06</td>\n",
       "</tr>\n",
       "<tr>\n",
       "  <th>Time:</th>                        <td>16:19:17</td>             <th>  Log-Likelihood:    </th> <td>  1056.1</td>\n",
       "</tr>\n",
       "<tr>\n",
       "  <th>No. Observations:</th>             <td>   152</td>              <th>  AIC:               </th> <td>  -2106.</td>\n",
       "</tr>\n",
       "<tr>\n",
       "  <th>Df Residuals:</th>                 <td>   149</td>              <th>  BIC:               </th> <td>  -2097.</td>\n",
       "</tr>\n",
       "<tr>\n",
       "  <th>Df Model:</th>                     <td>     2</td>              <th>                     </th>     <td> </td>   \n",
       "</tr>\n",
       "<tr>\n",
       "  <th>Covariance Type:</th>             <td>nonrobust</td>            <th>                     </th>     <td> </td>   \n",
       "</tr>\n",
       "</table>\n",
       "<table class=\"simpletable\">\n",
       "<tr>\n",
       "               <td></td>                  <th>coef</th>     <th>std err</th>      <th>t</th>      <th>P>|t|</th>  <th>[0.025</th>    <th>0.975]</th>  \n",
       "</tr>\n",
       "<tr>\n",
       "  <th>const</th>                       <td>    0.0004</td> <td> 7.03e-05</td> <td>    5.028</td> <td> 0.000</td> <td>    0.000</td> <td>    0.000</td>\n",
       "</tr>\n",
       "<tr>\n",
       "  <th>media_awareness_proportion</th>  <td>    0.0012</td> <td>    0.000</td> <td>    3.282</td> <td> 0.001</td> <td>    0.000</td> <td>    0.002</td>\n",
       "</tr>\n",
       "<tr>\n",
       "  <th>school_awareness_proportion</th> <td>   -0.0006</td> <td>    0.000</td> <td>   -3.155</td> <td> 0.002</td> <td>   -0.001</td> <td>   -0.000</td>\n",
       "</tr>\n",
       "</table>\n",
       "<table class=\"simpletable\">\n",
       "<tr>\n",
       "  <th>Omnibus:</th>       <td> 3.870</td> <th>  Durbin-Watson:     </th> <td>   2.143</td>\n",
       "</tr>\n",
       "<tr>\n",
       "  <th>Prob(Omnibus):</th> <td> 0.144</td> <th>  Jarque-Bera (JB):  </th> <td>   3.672</td>\n",
       "</tr>\n",
       "<tr>\n",
       "  <th>Skew:</th>          <td> 0.320</td> <th>  Prob(JB):          </th> <td>   0.159</td>\n",
       "</tr>\n",
       "<tr>\n",
       "  <th>Kurtosis:</th>      <td> 2.589</td> <th>  Cond. No.          </th> <td>    19.5</td>\n",
       "</tr>\n",
       "</table><br/><br/>Notes:<br/>[1] Standard Errors assume that the covariance matrix of the errors is correctly specified."
      ],
      "text/plain": [
       "<class 'statsmodels.iolib.summary.Summary'>\n",
       "\"\"\"\n",
       "                                   OLS Regression Results                                  \n",
       "===========================================================================================\n",
       "Dep. Variable:     difference_total_case_incidence   R-squared:                       0.144\n",
       "Model:                                         OLS   Adj. R-squared:                  0.132\n",
       "Method:                              Least Squares   F-statistic:                     12.53\n",
       "Date:                             Fri, 12 Nov 2021   Prob (F-statistic):           9.33e-06\n",
       "Time:                                     16:19:17   Log-Likelihood:                 1056.1\n",
       "No. Observations:                              152   AIC:                            -2106.\n",
       "Df Residuals:                                  149   BIC:                            -2097.\n",
       "Df Model:                                        2                                         \n",
       "Covariance Type:                         nonrobust                                         \n",
       "===============================================================================================\n",
       "                                  coef    std err          t      P>|t|      [0.025      0.975]\n",
       "-----------------------------------------------------------------------------------------------\n",
       "const                           0.0004   7.03e-05      5.028      0.000       0.000       0.000\n",
       "media_awareness_proportion      0.0012      0.000      3.282      0.001       0.000       0.002\n",
       "school_awareness_proportion    -0.0006      0.000     -3.155      0.002      -0.001      -0.000\n",
       "==============================================================================\n",
       "Omnibus:                        3.870   Durbin-Watson:                   2.143\n",
       "Prob(Omnibus):                  0.144   Jarque-Bera (JB):                3.672\n",
       "Skew:                           0.320   Prob(JB):                        0.159\n",
       "Kurtosis:                       2.589   Cond. No.                         19.5\n",
       "==============================================================================\n",
       "\n",
       "Notes:\n",
       "[1] Standard Errors assume that the covariance matrix of the errors is correctly specified.\n",
       "\"\"\""
      ]
     },
     "execution_count": 15,
     "metadata": {},
     "output_type": "execute_result"
    }
   ],
   "source": [
    "# Step 11: Perform ordinary linear regression using the least squares method\n",
    "import statsmodels.api as sm\n",
    "stats = sm.OLS(endog=coursework_csv['difference_total_case_incidence'], exog=sm.add_constant(new_df)).fit()\n",
    "stats.summary()"
   ]
  },
  {
   "cell_type": "code",
   "execution_count": 17,
   "id": "3c59bbac-6e2b-40b0-921c-24cc9515211d",
   "metadata": {},
   "outputs": [
    {
     "data": {
      "image/png": "[encoded data removed]",
      "text/plain": [
       "<Figure size 432x288 with 1 Axes>"
      ]
     },
     "metadata": {
      "needs_background": "light"
     },
     "output_type": "display_data"
    },
    {
     "data": {
      "text/plain": [
       "<Figure size 432x288 with 0 Axes>"
      ]
     },
     "metadata": {},
     "output_type": "display_data"
    }
   ],
   "source": [
    "# Step 12: Assess the viability of linear regression by checking to see if the LINE conditions are satisfied, to do this a residual vs fir plot is drawn\n",
    "import matplotlib.pyplot as plt\n",
    "import seaborn as sn\n",
    "plt.scatter(stats.fittedvalues, stats.resid)\n",
    "# adding title and labels\n",
    "plt.xlabel('Fitted')\n",
    "plt.ylabel('Residual')\n",
    "plt.title('Residual vs. Fitted Plot')\n",
    "plt.show()\n",
    "plt.savefig(\"RvsF.jpeg\")\n"
   ]
  },
  {
   "cell_type": "code",
   "execution_count": 24,
   "id": "ae01ae25-a6d5-4d73-bb1b-b6b57ff399d5",
   "metadata": {},
   "outputs": [
    {
     "name": "stdout",
     "output_type": "stream",
     "text": [
      "The average percentage spending on raising media awareness across all local authorities was = 12.108232468181694\n",
      "The average percentage spending on raising school awareness across all local authorities was = 24.084616145790253\n"
     ]
    }
   ],
   "source": [
    "# Step 0 (extra step to state rationale for research question)\n",
    "# Determine average percentage of spending on raising school awareness and media awareness across all local authorities\n",
    "coursework_csv['media_awareness_percentage']=coursework_csv['media_awareness_proportion']*100\n",
    "coursework_csv['school_awareness_percentage']=coursework_csv['school_awareness_proportion']*100\n",
    "\n",
    "print(f\"The average percentage spending on raising media awareness across all local authorities was = {str(coursework_csv['media_awareness_percentage'].mean())}\")\n",
    "\n",
    "print(f\"The average percentage spending on raising school awareness across all local authorities was = {str(coursework_csv['school_awareness_percentage'].mean())}\")"
   ]
  }
 ],
 "metadata": {
  "kernelspec": {
   "display_name": "Python 3 (ipykernel)",
   "language": "python",
   "name": "python3"
  },
  "language_info": {
   "codemirror_mode": {
    "name": "ipython",
    "version": 3
   },
   "file_extension": ".py",
   "mimetype": "text/x-python",
   "name": "python",
   "nbconvert_exporter": "python",
   "pygments_lexer": "ipython3",
   "version": "3.9.6"
  }
 },
 "nbformat": 4,
 "nbformat_minor": 5
}
