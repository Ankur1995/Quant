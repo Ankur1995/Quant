{
 "cells": [
  {
   "cell_type": "markdown",
   "id": "e0d8d2b5-4738-4f4f-865b-ec3295924f2e",
   "metadata": {},
   "source": [
    "### Quantitative methods – Written investigation"
   ]
  },
  {
   "cell_type": "markdown",
   "id": "d42dca89-bcdb-4158-ae15-a186f3edac6c",
   "metadata": {},
   "source": [
    "Student number: 21159916"
   ]
  },
  {
   "cell_type": "markdown",
   "id": "ffe25031-703d-48f9-b422-e038b69b8f76",
   "metadata": {},
   "source": [
    "**Import and set up packages necessary for analysis**"
   ]
  },
  {
   "cell_type": "code",
   "execution_count": 1,
   "id": "8a9dd32a-69e3-46c6-b4d3-1df03b325e0f",
   "metadata": {},
   "outputs": [],
   "source": [
    "# Import packages required for analysis\n",
    "import pandas as pd"
   ]
  },
  {
   "cell_type": "code",
   "execution_count": null,
   "id": "b3fee96a-c40e-480b-8e40-05cbcb442669",
   "metadata": {},
   "outputs": [],
   "source": [
    "# Import package required for accessing installed modules\n",
    "import sys"
   ]
  },
  {
   "cell_type": "code",
   "execution_count": null,
   "id": "d8446e9a-42a7-4897-876f-331c6b36224d",
   "metadata": {},
   "outputs": [],
   "source": [
    "# Import packages required for data visualisation\n",
    "import matplotlib.pyplot as plt\n",
    "import seaborn as sn"
   ]
  },
  {
   "cell_type": "code",
   "execution_count": null,
   "id": "93efbf50-2c70-48be-aa08-15d94e08c1f8",
   "metadata": {},
   "outputs": [],
   "source": [
    "# Import packages required for numeric operations\n",
    "import numpy as np\n",
    "from statsmodels.stats.outliers_influence import variance_inflation_factor\n",
    "from statsmodels.tools.tools import add_constant\n",
    "import statsmodels.api as sm"
   ]
  },
  {
   "cell_type": "code",
   "execution_count": 2,
   "id": "10a0e1a3-b10a-4f7d-827d-53e35afc3674",
   "metadata": {},
   "outputs": [
    {
     "name": "stdout",
     "output_type": "stream",
     "text": [
      "Requirement already satisfied: odfpy in /opt/conda/envs/sds2021/lib/python3.9/site-packages (1.4.1)\n",
      "Requirement already satisfied: defusedxml in /opt/conda/envs/sds2021/lib/python3.9/site-packages (from odfpy) (0.7.1)\n",
      "Note: you may need to restart the kernel to use updated packages.\n"
     ]
    }
   ],
   "source": [
    "# Install package necessary to read ODS files, Jonathan Reades's docker image is lacking this package\n",
    "if \"odfpy\" not in sys.modules:\n",
    "    %pip install odfpy"
   ]
  },
  {
   "cell_type": "markdown",
   "id": "080b593f-9702-4353-9d68-effa1006a19a",
   "metadata": {},
   "source": [
    "**Extract average_death_count variable**"
   ]
  },
  {
   "cell_type": "markdown",
   "id": "1dbc333a-1b32-4055-bd94-71ec3daea05f",
   "metadata": {},
   "source": [
    "The Office for National Statistics contains information about weekly deaths in British care homes.\n",
    "\n",
    "The following operation extracts this information and places it in a dataframe.\n",
    "\n",
    "Source: https://data.london.gov.uk/download/coronavirus--covid-19--deaths/87b3bb8d-e81a-48ea-bfb7-45fa2d01cd4b/ons_deaths_weekly_occurrences_by_la_location.csv"
   ]
  },
  {
   "cell_type": "code",
   "execution_count": 3,
   "id": "990ea069-1a7e-4419-b42f-66f8a1987dd0",
   "metadata": {},
   "outputs": [],
   "source": [
    "# Read in weekly death count data for Biritsh care homes\n",
    "weekly_readings = pd.read_csv(\"ons_deaths_weekly_occurrences_by_la_location.csv\")"
   ]
  },
  {
   "cell_type": "code",
   "execution_count": 4,
   "id": "a640ea70-99ae-448d-9921-a9e3972b382f",
   "metadata": {},
   "outputs": [],
   "source": [
    "# Extract dataframe that contains only care home readings\n",
    "care_home_weekly_readings = weekly_readings[weekly_readings['place_of_death'] == 'Care home']"
   ]
  },
  {
   "cell_type": "code",
   "execution_count": 5,
   "id": "417f1523-849d-4f5b-8377-b6553a354656",
   "metadata": {},
   "outputs": [],
   "source": [
    "# Extract dataframe that contains only COVID 19 related care home readings\n",
    "covid_care_home_weekly_readings = care_home_weekly_readings[care_home_weekly_readings['cause_of_death'] == 'COVID 19']"
   ]
  },
  {
   "cell_type": "code",
   "execution_count": 7,
   "id": "3d666de5-609f-48da-b91e-84bd28c39aa8",
   "metadata": {},
   "outputs": [],
   "source": [
    "# Extract only those readings that contain at least 1 COVID 19 death\n",
    "covid_care_home_weekly_deaths = covid_care_home_weekly_readings[covid_care_home_weekly_readings['deaths'] != 0]"
   ]
  },
  {
   "cell_type": "code",
   "execution_count": 8,
   "id": "bdfe578d-d67b-4c3f-a3da-de261e41f919",
   "metadata": {},
   "outputs": [],
   "source": [
    "# Group data frame by area_name\n",
    "average_death_count = covid_care_home_weekly_deaths.groupby('area_name', as_index=False)['deaths'].mean()"
   ]
  },
  {
   "cell_type": "code",
   "execution_count": 9,
   "id": "c5eec8fc-5336-4d77-bdbb-a570bf9b4cac",
   "metadata": {},
   "outputs": [],
   "source": [
    "# Rename columns\n",
    "average_death_count.columns = ['Area', 'average_death_count']"
   ]
  },
  {
   "cell_type": "markdown",
   "id": "fa853189-36ea-4370-897d-158b8c738564",
   "metadata": {},
   "source": [
    "**Extraction of independent variables**"
   ]
  },
  {
   "cell_type": "markdown",
   "id": "2e82fd94-b1d4-4d43-a081-204669e48209",
   "metadata": {},
   "source": [
    "**Common functionality**"
   ]
  },
  {
   "cell_type": "code",
   "execution_count": null,
   "id": "6f4e76f8-8829-4e04-9f58-2d4f89af4d53",
   "metadata": {},
   "outputs": [],
   "source": [
    "# This function will 'melt' data frames by compressing each colum that contains\n",
    "# weekly data into a single column containing a list of weekly data\n",
    "\n",
    "def aggregate_weekly_data(data_frame, identity_variables, value_name):\n",
    "    # The dataframe has columns for each week, these need to be aggregated.\n",
    "    # The first 5 columns remain as identifiers for each row\n",
    "    data_frame = data_frame.melt(id_vars=identity_variables,\n",
    "                                 var_name=\"Date\",\n",
    "                                 value_name=value_name)\n",
    "    return data_frame"
   ]
  },
  {
   "cell_type": "code",
   "execution_count": null,
   "id": "35c8d073-995e-4631-bafd-9ecb2da894ad",
   "metadata": {},
   "outputs": [],
   "source": [
    "# This function will remove suppressed '[s]' and missing '[n]' data values\n",
    "# and will convert a data frame column into a float and remove all other columns aside from\n",
    "# the key (which is 'area') amd the specified column\n",
    "\n",
    "def clean_data(data_frame, column_name):\n",
    "    data_frame = data_frame[data_frame[column_name] != \"[s]\"]\n",
    "    data_frame = data_frame[data_frame[column_name] != \"[n]\"]\n",
    "    data_frame[column_name] = data_frame[column_name].astype(float)\n",
    "    data_frame = data_frame[['Area', column_name]]\n",
    "    return data_frame"
   ]
  },
  {
   "cell_type": "code",
   "execution_count": 14,
   "id": "d5f30e19-b7c0-4324-8b85-7635acd0af73",
   "metadata": {},
   "outputs": [],
   "source": [
    "# This function will return the mean value of the weekly vaccination rate of care homes in British local authorities\n",
    "# It will be used to calculate mean weekly increases for both resident and staff care home vaccination rates\n",
    "\n",
    "def get_mean_increase(vaccination_rates_dataframe):\n",
    "    # The weekly increases in vaccination rates need to be calculated and then a mean value has to be assigned to each 'Area'\n",
    "    # This list represents the mean increase in vaccination rates\n",
    "    mean_increase = []\n",
    "    # Looping through the table of areas in the UK\n",
    "    for index, row in vaccination_rates_dataframe.iterrows():\n",
    "        # Represents total increase for a given row\n",
    "        total_increases = 0\n",
    "        # Extracts compressed list of vaccination percentages for each area\n",
    "        row = row['Vaccination Percentage']\n",
    "        # Loops through each vaccination percentage\n",
    "        for percentage in row:\n",
    "            # Resets the value of the last percentage increase to zero\n",
    "            last_increase = 0\n",
    "            # Gets the index of the current vaccination rate percentage\n",
    "            index2 = row.index(percentage)\n",
    "            # Converts index to integer\n",
    "            index2 = int(index2)\n",
    "            # If this is not the first element in the list then the last increase variable can be derived\n",
    "            if index2 > 0:\n",
    "                last_increase = row[index2-1]\n",
    "            # After this the difference can be calculated and added to the total increase in weekly vaccination rates\n",
    "            difference = percentage - last_increase\n",
    "            total_increases = total_increases + difference\n",
    "        # Finally a mean percentage increase can be calculated for the area\n",
    "        mean_increase.append(total_increases/(len(row)))\n",
    "    return mean_increase"
   ]
  },
  {
   "cell_type": "code",
   "execution_count": null,
   "id": "2676a5ee-7724-425a-8b61-f1b3a06a6227",
   "metadata": {},
   "outputs": [],
   "source": [
    "# This function will determine the mean percentage of British care homes that made a specific policy based decision in a local authority\n",
    "\n",
    "def get_mean_percentage(data_frame, column_name):\n",
    "    mean_percentage = []\n",
    "    for row in data_frame.iterrows():\n",
    "        percentage_list = row[1][column_name]\n",
    "        mean_percentage.append(sum(percentage_list)/len(percentage_list))\n",
    "    return mean_percentage"
   ]
  },
  {
   "cell_type": "markdown",
   "id": "12ad4a97-2ae8-4e44-82d7-0b7b41aabccd",
   "metadata": {},
   "source": [
    "**Extract variables representing weekly increases in vaccination rates for reidents and staff in British care homes (resident_vaccination_rate_increase and staff_vaccination_rate_increase)**"
   ]
  },
  {
   "cell_type": "markdown",
   "id": "598cf0d6-5af9-418a-b6ee-cc2a584201fd",
   "metadata": {},
   "source": [
    "Data Source: https://assets.publishing.service.gov.uk/government/uploads/system/uploads/attachment_data/file/1032732/covid-vaccination-november-2021.ods\n",
    "\n",
    "In order to extract the vaccination data for residents and staff at British care homes the excel file from the above data source need to be read in and cleaned.\n",
    "\n",
    "After which data regarding weekly vaccination rates will be read in for both residents and staff and the weekly percentage change will be calculated for both and placed into a dataframe."
   ]
  },
  {
   "cell_type": "code",
   "execution_count": 10,
   "id": "45653bca-117a-40df-beb6-a20713bc00a5",
   "metadata": {},
   "outputs": [],
   "source": [
    "# Extract data from relevant excel sheet\n",
    "vaccination_data_older_patients = pd.read_excel(\"covid-vaccination-november-2021.ods\",\n",
    "                                                sheet_name=\"Table_1\",\n",
    "                                                skiprows=[0, 1],\n",
    "                                                engine=\"odf\")\n",
    "vaccination_data_older_patients = vaccination_data_older_patients[vaccination_data_older_patients['Dose'] == 'One']\n",
    "vaccination_data_older_patients = vaccination_data_older_patients[vaccination_data_older_patients['Area unit'] == 'Local Authority']"
   ]
  },
  {
   "cell_type": "code",
   "execution_count": 11,
   "id": "c3029ed9-88a8-455b-938f-5a0bc867ab0d",
   "metadata": {},
   "outputs": [],
   "source": [
    "# The dataframe has columns for each week, these need to be aggregated.\n",
    "# The first 5 columns remain as identifiers for each row\n",
    "# The weekly vaccination rates are compressed into a list which is placed into a single column\n",
    "identity_variables = [\"Area\", \"Area Code\", \"Area unit\", \"Dose\", \"Description\"]\n",
    "vaccination_data_older_patients = aggregate_weekly_data(vaccination_data_older_patients,\n",
    "                                                        identity_variables,\n",
    "                                                        \"Vaccination Percentage\")"
   ]
  },
  {
   "cell_type": "code",
   "execution_count": 12,
   "id": "d83bd0e8-ad49-4857-aff1-6dc466222086",
   "metadata": {},
   "outputs": [],
   "source": [
    "# Remove missing and suppressed data, convert data type of column to float and return subsetted data frame\n",
    "vaccination_data_older_patients = clean_data(vaccination_data_older_patients,\n",
    "                                             'Vaccination Percentage')"
   ]
  },
  {
   "cell_type": "code",
   "execution_count": 13,
   "id": "c1786118-1b9b-467f-b53e-e8520ffcfe43",
   "metadata": {},
   "outputs": [],
   "source": [
    "# Now vaccination rates can be grouped by area and then aggregated across all weeks\n",
    "grouped = vaccination_data_older_patients.groupby('Area', as_index=False)\n",
    "resident_vaccination_rates = grouped.aggregate(lambda x: list(x))"
   ]
  },
  {
   "cell_type": "code",
   "execution_count": null,
   "id": "3fc76160-9717-40a8-a8a4-9be1c93d9fcc",
   "metadata": {},
   "outputs": [],
   "source": [
    "# Appying the common function defined above to resident vaccination rates yields\n",
    "mean_increase = get_mean_increase(resident_vaccination_rates)"
   ]
  },
  {
   "cell_type": "code",
   "execution_count": 15,
   "id": "a5ab4d49-6958-46d4-a59f-51cd2a68e215",
   "metadata": {},
   "outputs": [],
   "source": [
    "# A new variable can now be assigned to the data frame representing the mean weekly increase in vaccination percentages by area\n",
    "resident_vaccination_rates['resident_vaccination_rate_increase'] = mean_increase\n",
    "\n",
    "# Finally the columns used to derive the this new variable can be removed from the data frame\n",
    "resident_vaccination_rates = resident_vaccination_rates[['Area', 'resident_vaccination_rate_increase']]"
   ]
  },
  {
   "cell_type": "code",
   "execution_count": 16,
   "id": "21a39510-c007-4c1a-96d8-34f63615935b",
   "metadata": {},
   "outputs": [],
   "source": [
    "# Read in data about vaccination rates amongst care staff for older patients\n",
    "vaccination_data_older_care_staff = pd.read_excel(\"covid-vaccination-november-2021.ods\",\n",
    "                                                  sheet_name=\"Table_2\",\n",
    "                                                  skiprows=[0, 1],\n",
    "                                                  engine=\"odf\")\n",
    "vaccination_data_older_care_staff = vaccination_data_older_care_staff[vaccination_data_older_care_staff['Dose'] == 'One']\n",
    "vaccination_data_older_care_staff = vaccination_data_older_care_staff[vaccination_data_older_care_staff['Area unit'] == 'Local Authority']"
   ]
  },
  {
   "cell_type": "code",
   "execution_count": 18,
   "id": "2403d5dd-498e-4a60-bca8-b9dbc624a30b",
   "metadata": {},
   "outputs": [],
   "source": [
    "# The dataframe has columns for each week, these need to be aggregated.\n",
    "# The first 5 columns remain as identifiers for each row\n",
    "# The weekly vaccination rates are compressed into a list which is placed into a single column\n",
    "identity_variables = [\"Area\", \"Area Code\", \"Area unit\", \"Dose\", \"Description\"]\n",
    "vaccination_data_older_care_staff = aggregate_weekly_data(vaccination_data_older_care_staff,\n",
    "                                                          identity_variables,\n",
    "                                                          \"Vaccination Percentage\")"
   ]
  },
  {
   "cell_type": "code",
   "execution_count": 19,
   "id": "45fd7d40-7677-438c-a58c-1255664a8b61",
   "metadata": {
    "tags": []
   },
   "outputs": [],
   "source": [
    "# Remove missing and suppressed data, convert data type of column to float and return subsetted data frame\n",
    "vaccination_data_older_care_staff = clean_data(vaccination_data_older_care_staff,\n",
    "                                               'Vaccination Percentage')"
   ]
  },
  {
   "cell_type": "code",
   "execution_count": 21,
   "id": "57ffcea6-d6ce-4597-a042-d37d44c9a393",
   "metadata": {},
   "outputs": [],
   "source": [
    "# Now vaccination rates can be grouped by area and then aggregated across all weeks\n",
    "grouped = vaccination_data_older_care_staff.groupby('Area', as_index=False)\n",
    "staff_vaccination_rates = grouped.aggregate(lambda x: list(x))"
   ]
  },
  {
   "cell_type": "code",
   "execution_count": null,
   "id": "2e317d43-cc07-41fd-b2f6-48feaf0bd42b",
   "metadata": {},
   "outputs": [],
   "source": [
    "# Appying the common function defined above to staff vaccination rates yields\n",
    "mean_increase = get_mean_increase(staff_vaccination_rates)"
   ]
  },
  {
   "cell_type": "code",
   "execution_count": 23,
   "id": "b905bf0d-ac0d-4cd0-bbf5-e41fcf817aa1",
   "metadata": {},
   "outputs": [],
   "source": [
    "# Now vaccination rates can be grouped by area and then aggregated across all weeks\n",
    "staff_vaccination_rates['staff_vaccination_rate_increase'] = mean_increase\n",
    "staff_vaccination_rates = staff_vaccination_rates[['Area', 'staff_vaccination_rate_increase']]"
   ]
  },
  {
   "cell_type": "code",
   "execution_count": 24,
   "id": "9cbf63e1-43ce-4764-bced-3d33064108cb",
   "metadata": {},
   "outputs": [
    {
     "data": {
      "text/html": [
       "<div>\n",
       "<style scoped>\n",
       "    .dataframe tbody tr th:only-of-type {\n",
       "        vertical-align: middle;\n",
       "    }\n",
       "\n",
       "    .dataframe tbody tr th {\n",
       "        vertical-align: top;\n",
       "    }\n",
       "\n",
       "    .dataframe thead th {\n",
       "        text-align: right;\n",
       "    }\n",
       "</style>\n",
       "<table border=\"1\" class=\"dataframe\">\n",
       "  <thead>\n",
       "    <tr style=\"text-align: right;\">\n",
       "      <th></th>\n",
       "      <th>Area</th>\n",
       "      <th>resident_vaccination_rate_increase</th>\n",
       "      <th>staff_vaccination_rate_increase</th>\n",
       "    </tr>\n",
       "  </thead>\n",
       "  <tbody>\n",
       "    <tr>\n",
       "      <th>0</th>\n",
       "      <td>Barking and Dagenham</td>\n",
       "      <td>2.167442</td>\n",
       "      <td>2.268889</td>\n",
       "    </tr>\n",
       "    <tr>\n",
       "      <th>1</th>\n",
       "      <td>Barnet</td>\n",
       "      <td>2.200000</td>\n",
       "      <td>2.076087</td>\n",
       "    </tr>\n",
       "    <tr>\n",
       "      <th>2</th>\n",
       "      <td>Barnsley</td>\n",
       "      <td>2.197778</td>\n",
       "      <td>2.133333</td>\n",
       "    </tr>\n",
       "    <tr>\n",
       "      <th>3</th>\n",
       "      <td>Bath and North East Somerset</td>\n",
       "      <td>2.357143</td>\n",
       "      <td>2.284091</td>\n",
       "    </tr>\n",
       "    <tr>\n",
       "      <th>4</th>\n",
       "      <td>Bedford</td>\n",
       "      <td>2.504878</td>\n",
       "      <td>2.351163</td>\n",
       "    </tr>\n",
       "    <tr>\n",
       "      <th>...</th>\n",
       "      <td>...</td>\n",
       "      <td>...</td>\n",
       "      <td>...</td>\n",
       "    </tr>\n",
       "    <tr>\n",
       "      <th>146</th>\n",
       "      <td>Wirral</td>\n",
       "      <td>2.167391</td>\n",
       "      <td>2.045652</td>\n",
       "    </tr>\n",
       "    <tr>\n",
       "      <th>147</th>\n",
       "      <td>Wokingham</td>\n",
       "      <td>3.259091</td>\n",
       "      <td>2.145652</td>\n",
       "    </tr>\n",
       "    <tr>\n",
       "      <th>148</th>\n",
       "      <td>Wolverhampton</td>\n",
       "      <td>2.193182</td>\n",
       "      <td>2.113043</td>\n",
       "    </tr>\n",
       "    <tr>\n",
       "      <th>149</th>\n",
       "      <td>Worcestershire</td>\n",
       "      <td>2.245652</td>\n",
       "      <td>2.119565</td>\n",
       "    </tr>\n",
       "    <tr>\n",
       "      <th>150</th>\n",
       "      <td>York</td>\n",
       "      <td>2.360465</td>\n",
       "      <td>2.261364</td>\n",
       "    </tr>\n",
       "  </tbody>\n",
       "</table>\n",
       "<p>151 rows × 3 columns</p>\n",
       "</div>"
      ],
      "text/plain": [
       "                             Area  resident_vaccination_rate_increase  \\\n",
       "0            Barking and Dagenham                            2.167442   \n",
       "1                          Barnet                            2.200000   \n",
       "2                        Barnsley                            2.197778   \n",
       "3    Bath and North East Somerset                            2.357143   \n",
       "4                         Bedford                            2.504878   \n",
       "..                            ...                                 ...   \n",
       "146                        Wirral                            2.167391   \n",
       "147                     Wokingham                            3.259091   \n",
       "148                 Wolverhampton                            2.193182   \n",
       "149                Worcestershire                            2.245652   \n",
       "150                          York                            2.360465   \n",
       "\n",
       "     staff_vaccination_rate_increase  \n",
       "0                           2.268889  \n",
       "1                           2.076087  \n",
       "2                           2.133333  \n",
       "3                           2.284091  \n",
       "4                           2.351163  \n",
       "..                               ...  \n",
       "146                         2.045652  \n",
       "147                         2.145652  \n",
       "148                         2.113043  \n",
       "149                         2.119565  \n",
       "150                         2.261364  \n",
       "\n",
       "[151 rows x 3 columns]"
      ]
     },
     "execution_count": 24,
     "metadata": {},
     "output_type": "execute_result"
    }
   ],
   "source": [
    "# Finally the data frames for mean resident and staff vaccination rate increases can be merged\n",
    "vaccination_rates = resident_vaccination_rates.merge(staff_vaccination_rates,\n",
    "                                                     on=\"Area\")\n",
    "vaccination_rates"
   ]
  },
  {
   "cell_type": "markdown",
   "id": "a3d1536b-9098-48a4-a139-adcc30f082a3",
   "metadata": {},
   "source": [
    "**Extract independent variables from policy dataset**\n",
    "\n",
    "Data Source: https://assets.publishing.service.gov.uk/government/uploads/system/uploads/attachment_data/file/1032737/infection-control-november-2021.ods"
   ]
  },
  {
   "cell_type": "markdown",
   "id": "8c566f8b-fb0d-47dc-a927-c4e5b1360b1e",
   "metadata": {},
   "source": [
    "**Extract mean weekly percentage of care homes that allowed visiting vairable (visiting_allowed_percentage)**"
   ]
  },
  {
   "cell_type": "code",
   "execution_count": 25,
   "id": "69f955b9-8ad0-44fc-8859-8dd50629ee09",
   "metadata": {},
   "outputs": [],
   "source": [
    "# Extract data from relevant excel sheet\n",
    "visting_allowed_percentage = pd.read_excel(\"infection-control-november-2021.ods\",\n",
    "                                           sheet_name=\"Table_1\",\n",
    "                                           skiprows=[0, 1],\n",
    "                                           engine=\"odf\")"
   ]
  },
  {
   "cell_type": "code",
   "execution_count": null,
   "id": "d89dfc49-e36d-454a-bd8b-e4240b4914d2",
   "metadata": {},
   "outputs": [],
   "source": [
    "# Filter data frame to ensure only percentage values of local authority care homes where visiting is allowed are taken\n",
    "visting_allowed_percentage = visting_allowed_percentage[visting_allowed_percentage['Measure'] == \"Percentage of care homes\"]\n",
    "visting_allowed_percentage = visting_allowed_percentage[visting_allowed_percentage['Area unit'] == 'Local Authority']\n",
    "visting_allowed_percentage = visting_allowed_percentage[visting_allowed_percentage['Description'] == 'Visiting is allowed']"
   ]
  },
  {
   "cell_type": "code",
   "execution_count": 26,
   "id": "03ec16ac-55f7-4a3b-92dc-9926c1ae7951",
   "metadata": {},
   "outputs": [],
   "source": [
    "# The dataframe has columns for each week, these need to be aggregated.\n",
    "# The first 5 columns remain as identifiers for each row\n",
    "# The weekly vaccination rates are compressed into a list which is placed into a single column\n",
    "identity_variables = [\"Area\", \"Area Code\", \"Area unit\", \"Measure\", \"Description\"]\n",
    "visting_allowed_percentage = aggregate_weekly_data(visting_allowed_percentage,\n",
    "                                                   identity_variables,\n",
    "                                                   \"visting_allowed_list\")"
   ]
  },
  {
   "cell_type": "code",
   "execution_count": 27,
   "id": "fa1bacb4-023a-4c38-94d8-adea9b9d7487",
   "metadata": {},
   "outputs": [],
   "source": [
    "# Remove missing and suppressed data, convert data type of column to float and return subsetted data frame\n",
    "visting_allowed_percentage = clean_data(visting_allowed_percentage,\n",
    "                                        'visting_allowed_list')"
   ]
  },
  {
   "cell_type": "code",
   "execution_count": 28,
   "id": "6527a00e-204b-4f24-ac69-00ec802605e0",
   "metadata": {},
   "outputs": [],
   "source": [
    "# Now visiting allowed percentages can be grouped by area and then aggregated across all weeks\n",
    "grouped = visting_allowed_percentage.groupby('Area', as_index=False)\n",
    "visting_allowed_percentage = grouped.aggregate(lambda x: list(x))"
   ]
  },
  {
   "cell_type": "code",
   "execution_count": 29,
   "id": "74fa01b1-d221-4079-a9cd-b46fddb8830c",
   "metadata": {},
   "outputs": [],
   "source": [
    "# Get the mean percentage of care homes in local authorties that allowed visiting\n",
    "mean_percentage = get_mean_percentage(visting_allowed_percentage, 'visting_allowed_list')"
   ]
  },
  {
   "cell_type": "code",
   "execution_count": 30,
   "id": "a88611e2-4414-4050-9d3c-b9be9b7e85dc",
   "metadata": {},
   "outputs": [
    {
     "data": {
      "text/html": [
       "<div>\n",
       "<style scoped>\n",
       "    .dataframe tbody tr th:only-of-type {\n",
       "        vertical-align: middle;\n",
       "    }\n",
       "\n",
       "    .dataframe tbody tr th {\n",
       "        vertical-align: top;\n",
       "    }\n",
       "\n",
       "    .dataframe thead th {\n",
       "        text-align: right;\n",
       "    }\n",
       "</style>\n",
       "<table border=\"1\" class=\"dataframe\">\n",
       "  <thead>\n",
       "    <tr style=\"text-align: right;\">\n",
       "      <th></th>\n",
       "      <th>Area</th>\n",
       "      <th>visting_allowed_percentage</th>\n",
       "    </tr>\n",
       "  </thead>\n",
       "  <tbody>\n",
       "    <tr>\n",
       "      <th>0</th>\n",
       "      <td>Barking and Dagenham</td>\n",
       "      <td>74.073333</td>\n",
       "    </tr>\n",
       "    <tr>\n",
       "      <th>1</th>\n",
       "      <td>Barnet</td>\n",
       "      <td>63.247826</td>\n",
       "    </tr>\n",
       "    <tr>\n",
       "      <th>2</th>\n",
       "      <td>Barnsley</td>\n",
       "      <td>78.778261</td>\n",
       "    </tr>\n",
       "    <tr>\n",
       "      <th>3</th>\n",
       "      <td>Bath and North East Somerset</td>\n",
       "      <td>76.730435</td>\n",
       "    </tr>\n",
       "    <tr>\n",
       "      <th>4</th>\n",
       "      <td>Bedford</td>\n",
       "      <td>72.347826</td>\n",
       "    </tr>\n",
       "    <tr>\n",
       "      <th>...</th>\n",
       "      <td>...</td>\n",
       "      <td>...</td>\n",
       "    </tr>\n",
       "    <tr>\n",
       "      <th>146</th>\n",
       "      <td>Wirral</td>\n",
       "      <td>68.526087</td>\n",
       "    </tr>\n",
       "    <tr>\n",
       "      <th>147</th>\n",
       "      <td>Wokingham</td>\n",
       "      <td>85.352174</td>\n",
       "    </tr>\n",
       "    <tr>\n",
       "      <th>148</th>\n",
       "      <td>Wolverhampton</td>\n",
       "      <td>67.317391</td>\n",
       "    </tr>\n",
       "    <tr>\n",
       "      <th>149</th>\n",
       "      <td>Worcestershire</td>\n",
       "      <td>80.056522</td>\n",
       "    </tr>\n",
       "    <tr>\n",
       "      <th>150</th>\n",
       "      <td>York</td>\n",
       "      <td>86.517391</td>\n",
       "    </tr>\n",
       "  </tbody>\n",
       "</table>\n",
       "<p>151 rows × 2 columns</p>\n",
       "</div>"
      ],
      "text/plain": [
       "                             Area  visting_allowed_percentage\n",
       "0            Barking and Dagenham                   74.073333\n",
       "1                          Barnet                   63.247826\n",
       "2                        Barnsley                   78.778261\n",
       "3    Bath and North East Somerset                   76.730435\n",
       "4                         Bedford                   72.347826\n",
       "..                            ...                         ...\n",
       "146                        Wirral                   68.526087\n",
       "147                     Wokingham                   85.352174\n",
       "148                 Wolverhampton                   67.317391\n",
       "149                Worcestershire                   80.056522\n",
       "150                          York                   86.517391\n",
       "\n",
       "[151 rows x 2 columns]"
      ]
     },
     "execution_count": 30,
     "metadata": {},
     "output_type": "execute_result"
    }
   ],
   "source": [
    "# Assign the visiting allowed percentage column this value (replacing the list), remove additional columns from the data frame and display the data frame\n",
    "visting_allowed_percentage['visting_allowed_percentage'] = mean_percentage\n",
    "visting_allowed_percentage = visting_allowed_percentage[['Area', 'visting_allowed_percentage']]\n",
    "visting_allowed_percentage"
   ]
  },
  {
   "cell_type": "markdown",
   "id": "8a379dfc-4af5-460b-ac32-5bed54ec0dbf",
   "metadata": {},
   "source": [
    "**Extract mean weekly percentage of care homes that underpaid isolating staff (underpaid_islolating_staff_percentage)**"
   ]
  },
  {
   "cell_type": "code",
   "execution_count": 31,
   "id": "0f339a20-bc53-4da2-861d-186e70414577",
   "metadata": {},
   "outputs": [],
   "source": [
    "# Extract data from relevant excel sheet\n",
    "isolating_staff_percentage = pd.read_excel(\"infection-control-november-2021.ods\",\n",
    "                                           sheet_name=\"Table_2\",\n",
    "                                           skiprows=[0, 1],\n",
    "                                           engine=\"odf\")"
   ]
  },
  {
   "cell_type": "code",
   "execution_count": 32,
   "id": "58292c16-cbee-4c86-8f10-d039b2fbc002",
   "metadata": {},
   "outputs": [],
   "source": [
    "# Filter data frame to ensure only percentage values of local authority care homes where isolating staff are paid full wages\n",
    "isolating_staff_percentage = isolating_staff_percentage[isolating_staff_percentage['Measure'] == \"Percentage of care homes\"]\n",
    "isolating_staff_percentage = isolating_staff_percentage[isolating_staff_percentage['Area unit'] == 'Local Authority']\n",
    "isolating_staff_percentage = isolating_staff_percentage[isolating_staff_percentage['Description'] == 'Isolating staff are paid full wages']"
   ]
  },
  {
   "cell_type": "code",
   "execution_count": 33,
   "id": "001626f3-8a58-459a-8589-e403d38c7c2b",
   "metadata": {},
   "outputs": [],
   "source": [
    "# The dataframe has columns for each week, these need to be aggregated.\n",
    "# The first 5 columns remain as identifiers for each row\n",
    "# The weekly vaccination rates are compressed into a list which is placed into a single column\n",
    "identity_variables = [\"Area\", \"Area Code\", \"Area unit\", \"Measure\", \"Description\"]\n",
    "isolating_staff_percentage = aggregate_weekly_data(isolating_staff_percentage,\n",
    "                                                   identity_variables,\n",
    "                                                   \"isloating_staff_list\")"
   ]
  },
  {
   "cell_type": "code",
   "execution_count": 34,
   "id": "8f6dada9-edfe-4811-8766-947ca14541f8",
   "metadata": {},
   "outputs": [],
   "source": [
    "# Remove missing and suppressed data, convert data type of column to float and return subsetted data frame\n",
    "isolating_staff_percentage = clean_data(isolating_staff_percentage,\n",
    "                                        'isloating_staff_list')"
   ]
  },
  {
   "cell_type": "code",
   "execution_count": 35,
   "id": "25dc22c0-ee51-47a0-8a38-7770ce59194d",
   "metadata": {},
   "outputs": [],
   "source": [
    "# Now isolating staff percentages can be grouped by area and then aggregated across all weeks\n",
    "grouped = isolating_staff_percentage.groupby('Area', as_index=False)\n",
    "isolating_staff_percentage = grouped.aggregate(lambda x: list(x))"
   ]
  },
  {
   "cell_type": "code",
   "execution_count": 36,
   "id": "fa58e327-aab0-4c63-ac05-6f3a4edc5170",
   "metadata": {},
   "outputs": [],
   "source": [
    "# Get the mean percentage of care homes in local authorties that allowed visiting\n",
    "mean_percentage = get_mean_percentage(isolating_staff_percentage, 'isloating_staff_list')"
   ]
  },
  {
   "cell_type": "code",
   "execution_count": 37,
   "id": "abc85219-7802-4b43-ab8a-aaa07ca7c135",
   "metadata": {},
   "outputs": [
    {
     "data": {
      "text/html": [
       "<div>\n",
       "<style scoped>\n",
       "    .dataframe tbody tr th:only-of-type {\n",
       "        vertical-align: middle;\n",
       "    }\n",
       "\n",
       "    .dataframe tbody tr th {\n",
       "        vertical-align: top;\n",
       "    }\n",
       "\n",
       "    .dataframe thead th {\n",
       "        text-align: right;\n",
       "    }\n",
       "</style>\n",
       "<table border=\"1\" class=\"dataframe\">\n",
       "  <thead>\n",
       "    <tr style=\"text-align: right;\">\n",
       "      <th></th>\n",
       "      <th>Area</th>\n",
       "      <th>underpaid_islolating_staff_percentage</th>\n",
       "    </tr>\n",
       "  </thead>\n",
       "  <tbody>\n",
       "    <tr>\n",
       "      <th>0</th>\n",
       "      <td>Barking and Dagenham</td>\n",
       "      <td>0.000000</td>\n",
       "    </tr>\n",
       "    <tr>\n",
       "      <th>1</th>\n",
       "      <td>Barnet</td>\n",
       "      <td>10.684783</td>\n",
       "    </tr>\n",
       "    <tr>\n",
       "      <th>2</th>\n",
       "      <td>Barnsley</td>\n",
       "      <td>45.115217</td>\n",
       "    </tr>\n",
       "    <tr>\n",
       "      <th>3</th>\n",
       "      <td>Bath and North East Somerset</td>\n",
       "      <td>6.908696</td>\n",
       "    </tr>\n",
       "    <tr>\n",
       "      <th>4</th>\n",
       "      <td>Bedford</td>\n",
       "      <td>21.354348</td>\n",
       "    </tr>\n",
       "    <tr>\n",
       "      <th>...</th>\n",
       "      <td>...</td>\n",
       "      <td>...</td>\n",
       "    </tr>\n",
       "    <tr>\n",
       "      <th>146</th>\n",
       "      <td>Wirral</td>\n",
       "      <td>12.973913</td>\n",
       "    </tr>\n",
       "    <tr>\n",
       "      <th>147</th>\n",
       "      <td>Wokingham</td>\n",
       "      <td>0.000000</td>\n",
       "    </tr>\n",
       "    <tr>\n",
       "      <th>148</th>\n",
       "      <td>Wolverhampton</td>\n",
       "      <td>30.569565</td>\n",
       "    </tr>\n",
       "    <tr>\n",
       "      <th>149</th>\n",
       "      <td>Worcestershire</td>\n",
       "      <td>19.741304</td>\n",
       "    </tr>\n",
       "    <tr>\n",
       "      <th>150</th>\n",
       "      <td>York</td>\n",
       "      <td>0.000000</td>\n",
       "    </tr>\n",
       "  </tbody>\n",
       "</table>\n",
       "<p>151 rows × 2 columns</p>\n",
       "</div>"
      ],
      "text/plain": [
       "                             Area  underpaid_islolating_staff_percentage\n",
       "0            Barking and Dagenham                               0.000000\n",
       "1                          Barnet                              10.684783\n",
       "2                        Barnsley                              45.115217\n",
       "3    Bath and North East Somerset                               6.908696\n",
       "4                         Bedford                              21.354348\n",
       "..                            ...                                    ...\n",
       "146                        Wirral                              12.973913\n",
       "147                     Wokingham                               0.000000\n",
       "148                 Wolverhampton                              30.569565\n",
       "149                Worcestershire                              19.741304\n",
       "150                          York                               0.000000\n",
       "\n",
       "[151 rows x 2 columns]"
      ]
     },
     "execution_count": 37,
     "metadata": {},
     "output_type": "execute_result"
    }
   ],
   "source": [
    "# Subtract the full paid isolating staff percentage from 100 to get the underpaid isolatin staff percentage\n",
    "# (this covers all classifications of such underpaid staff and is more computationally efficient)\n",
    "# Remove superflous columns and view the data frame\n",
    "isolating_staff_percentage['full_paid_isloating_staff'] = mean_percentage\n",
    "isolating_staff_percentage['underpaid_islolating_staff_percentage'] = 100 - isolating_staff_percentage['full_paid_isloating_staff']\n",
    "isolating_staff_percentage = isolating_staff_percentage[['Area', 'underpaid_islolating_staff_percentage']]\n",
    "isolating_staff_percentage"
   ]
  },
  {
   "cell_type": "markdown",
   "id": "b1110ee2-ef9d-4934-9c09-a9cc9ead4d36",
   "metadata": {},
   "source": [
    "**Extract mean weekly percentage of care homes where staff worked in multiple locaitons (multiple_care_homes_worked_percentage)**"
   ]
  },
  {
   "cell_type": "code",
   "execution_count": 38,
   "id": "cd24e0e8-3c17-422a-af7d-a3f05cf50da9",
   "metadata": {},
   "outputs": [],
   "source": [
    "# Extract data from relevant excel sheet\n",
    "carehomes_worked = pd.read_excel(\"infection-control-november-2021.ods\",\n",
    "                                 sheet_name=\"Table_3\",\n",
    "                                 skiprows=[0, 1],\n",
    "                                 engine=\"odf\")"
   ]
  },
  {
   "cell_type": "code",
   "execution_count": 39,
   "id": "0fabfc3b-e727-46fa-9574-977d10eeeb3e",
   "metadata": {},
   "outputs": [],
   "source": [
    "# Filter data frame to ensure only percentage values of local authority care homes where staff didn't work in more than one care home\n",
    "carehomes_worked = carehomes_worked[carehomes_worked['Measure'] == \"Percentage of care homes\"]\n",
    "carehomes_worked = carehomes_worked[carehomes_worked['Area unit'] == 'Local Authority']\n",
    "carehomes_worked = carehomes_worked[carehomes_worked['Description'] == 'No staff working between services']"
   ]
  },
  {
   "cell_type": "code",
   "execution_count": 40,
   "id": "08c77e3d-6df8-4f69-8808-1f2fefb56c46",
   "metadata": {},
   "outputs": [],
   "source": [
    "# The dataframe has columns for each week, these need to be aggregated.\n",
    "# The first 5 columns remain as identifiers for each row\n",
    "# The weekly vaccination rates are compressed into a list which is placed into a single column\n",
    "identity_variables = [\"Area\", \"Area Code\", \"Area unit\", \"Measure\", \"Description\"]\n",
    "carehomes_worked = aggregate_weekly_data(carehomes_worked,\n",
    "                                         identity_variables,\n",
    "                                         \"single_carehomes_worked_list\")"
   ]
  },
  {
   "cell_type": "code",
   "execution_count": 41,
   "id": "91964d05-5664-4457-84ed-40ad003092db",
   "metadata": {},
   "outputs": [],
   "source": [
    "# Remove missing and suppressed data, convert data type of column to float and return subsetted data frame\n",
    "carehomes_worked = clean_data(carehomes_worked,\n",
    "                              'single_carehomes_worked_list')"
   ]
  },
  {
   "cell_type": "code",
   "execution_count": 42,
   "id": "f09a29b4-0804-455f-b255-a20758b19f3c",
   "metadata": {},
   "outputs": [],
   "source": [
    "# Now care homes wokred percentages can be grouped by area and then aggregated across all weeks\n",
    "grouped = carehomes_worked.groupby('Area', as_index=False)\n",
    "carehomes_worked = grouped.aggregate(lambda x: list(x))"
   ]
  },
  {
   "cell_type": "code",
   "execution_count": 43,
   "id": "75a1727f-745f-449c-95d3-ca9d53118eb7",
   "metadata": {},
   "outputs": [],
   "source": [
    "# Get the mean percentage of care homes in local authorties where staff worked in just a single care home\n",
    "mean_percentage = get_mean_percentage(carehomes_worked, 'single_carehomes_worked_list')"
   ]
  },
  {
   "cell_type": "code",
   "execution_count": 44,
   "id": "8fe99e54-b2cc-43c3-abb0-72af23715ddd",
   "metadata": {},
   "outputs": [
    {
     "data": {
      "text/html": [
       "<div>\n",
       "<style scoped>\n",
       "    .dataframe tbody tr th:only-of-type {\n",
       "        vertical-align: middle;\n",
       "    }\n",
       "\n",
       "    .dataframe tbody tr th {\n",
       "        vertical-align: top;\n",
       "    }\n",
       "\n",
       "    .dataframe thead th {\n",
       "        text-align: right;\n",
       "    }\n",
       "</style>\n",
       "<table border=\"1\" class=\"dataframe\">\n",
       "  <thead>\n",
       "    <tr style=\"text-align: right;\">\n",
       "      <th></th>\n",
       "      <th>Area</th>\n",
       "      <th>multiple_care_homes_worked_percentage</th>\n",
       "    </tr>\n",
       "  </thead>\n",
       "  <tbody>\n",
       "    <tr>\n",
       "      <th>0</th>\n",
       "      <td>Barking and Dagenham</td>\n",
       "      <td>29.143478</td>\n",
       "    </tr>\n",
       "    <tr>\n",
       "      <th>1</th>\n",
       "      <td>Barnet</td>\n",
       "      <td>23.397826</td>\n",
       "    </tr>\n",
       "    <tr>\n",
       "      <th>2</th>\n",
       "      <td>Barnsley</td>\n",
       "      <td>15.215217</td>\n",
       "    </tr>\n",
       "    <tr>\n",
       "      <th>3</th>\n",
       "      <td>Bath and North East Somerset</td>\n",
       "      <td>24.913043</td>\n",
       "    </tr>\n",
       "    <tr>\n",
       "      <th>4</th>\n",
       "      <td>Bedford</td>\n",
       "      <td>28.856522</td>\n",
       "    </tr>\n",
       "    <tr>\n",
       "      <th>...</th>\n",
       "      <td>...</td>\n",
       "      <td>...</td>\n",
       "    </tr>\n",
       "    <tr>\n",
       "      <th>146</th>\n",
       "      <td>Wirral</td>\n",
       "      <td>22.447826</td>\n",
       "    </tr>\n",
       "    <tr>\n",
       "      <th>147</th>\n",
       "      <td>Wokingham</td>\n",
       "      <td>23.119565</td>\n",
       "    </tr>\n",
       "    <tr>\n",
       "      <th>148</th>\n",
       "      <td>Wolverhampton</td>\n",
       "      <td>28.328261</td>\n",
       "    </tr>\n",
       "    <tr>\n",
       "      <th>149</th>\n",
       "      <td>Worcestershire</td>\n",
       "      <td>25.958696</td>\n",
       "    </tr>\n",
       "    <tr>\n",
       "      <th>150</th>\n",
       "      <td>York</td>\n",
       "      <td>0.000000</td>\n",
       "    </tr>\n",
       "  </tbody>\n",
       "</table>\n",
       "<p>151 rows × 2 columns</p>\n",
       "</div>"
      ],
      "text/plain": [
       "                             Area  multiple_care_homes_worked_percentage\n",
       "0            Barking and Dagenham                              29.143478\n",
       "1                          Barnet                              23.397826\n",
       "2                        Barnsley                              15.215217\n",
       "3    Bath and North East Somerset                              24.913043\n",
       "4                         Bedford                              28.856522\n",
       "..                            ...                                    ...\n",
       "146                        Wirral                              22.447826\n",
       "147                     Wokingham                              23.119565\n",
       "148                 Wolverhampton                              28.328261\n",
       "149                Worcestershire                              25.958696\n",
       "150                          York                               0.000000\n",
       "\n",
       "[151 rows x 2 columns]"
      ]
     },
     "execution_count": 44,
     "metadata": {},
     "output_type": "execute_result"
    }
   ],
   "source": [
    "# Subtract the full paid isolating staff percentage from 100 to get the multiple care homes wokred percentage for staff\n",
    "# (this covers all classifications of such staff and is more computationally efficient)\n",
    "# Remove superflous columns and view the data frame\n",
    "carehomes_worked['single_carehomes_worked_list'] = mean_percentage\n",
    "carehomes_worked['multiple_care_homes_worked_percentage'] = 100 - carehomes_worked['single_carehomes_worked_list']\n",
    "carehomes_worked = carehomes_worked[['Area', 'multiple_care_homes_worked_percentage']]\n",
    "carehomes_worked"
   ]
  },
  {
   "cell_type": "markdown",
   "id": "9512591b-536c-48e0-a79b-a18313dc3d94",
   "metadata": {},
   "source": [
    "**Extract mean weekly percentage of care homes where staff ratios were at risk (agreed_staffing_ratios_risk_percentage)**"
   ]
  },
  {
   "cell_type": "code",
   "execution_count": 45,
   "id": "f32c9e4d-4859-4828-9002-463cc5f8f6fc",
   "metadata": {},
   "outputs": [],
   "source": [
    "# Extract data from relevant excel sheet\n",
    "staffing_ratios = pd.read_excel(\"infection-control-november-2021.ods\",\n",
    "                                sheet_name=\"Table_4\",\n",
    "                                skiprows=[0, 1],\n",
    "                                engine=\"odf\")"
   ]
  },
  {
   "cell_type": "code",
   "execution_count": 46,
   "id": "dee12918-c900-4870-be6b-310fb40168ca",
   "metadata": {},
   "outputs": [],
   "source": [
    "staffing_ratios = staffing_ratios[staffing_ratios['Measure'] == \"Percentage of care homes\"]\n",
    "staffing_ratios = staffing_ratios[staffing_ratios['Area unit'] == 'Local Authority']\n",
    "staffing_ratios = staffing_ratios[staffing_ratios['Description'] == 'Agreed staffing ratios, no risk in coming days']"
   ]
  },
  {
   "cell_type": "code",
   "execution_count": 47,
   "id": "646b88dd-33b1-4553-a79c-6107b5c2bc66",
   "metadata": {},
   "outputs": [],
   "source": [
    "# The dataframe has columns for each week, these need to be aggregated.\n",
    "# The first 5 columns remain as identifiers for each row\n",
    "# The weekly vaccination rates are compressed into a list which is placed into a single column\n",
    "identity_variables = [\"Area\", \"Area Code\", \"Area unit\", \"Measure\", \"Description\"]\n",
    "staffing_ratios = aggregate_weekly_data(staffing_ratios,\n",
    "                                        identity_variables,\n",
    "                                        \"agreed_staffing_ratios_no_risk_list\")"
   ]
  },
  {
   "cell_type": "code",
   "execution_count": 48,
   "id": "4d33aa44-1a04-4837-997d-8762c765db96",
   "metadata": {},
   "outputs": [],
   "source": [
    "# Remove missing and suppressed data, convert data type of column to float and return subsetted data frame\n",
    "staffing_ratios = clean_data(staffing_ratios,\n",
    "                             'agreed_staffing_ratios_no_risk_list')"
   ]
  },
  {
   "cell_type": "code",
   "execution_count": 49,
   "id": "714b8233-6139-402a-b084-aacfab91bc92",
   "metadata": {},
   "outputs": [],
   "source": [
    "# Now staffing ratios can be grouped by area and then aggregated across all weeks\n",
    "grouped = staffing_ratios.groupby('Area', as_index=False)\n",
    "staffing_ratios = grouped.aggregate(lambda x: list(x))"
   ]
  },
  {
   "cell_type": "code",
   "execution_count": 50,
   "id": "c6f0589a-b0cd-447a-aa17-d66d3264cf75",
   "metadata": {},
   "outputs": [],
   "source": [
    "# Get the mean percentage of care homes in local authorties where there was no risk of lower staffing ratios\n",
    "mean_percentage = get_mean_percentage(staffing_ratios, 'agreed_staffing_ratios_no_risk_list')"
   ]
  },
  {
   "cell_type": "code",
   "execution_count": 51,
   "id": "60a42298-c565-4255-9cdd-c7ba6e1264dd",
   "metadata": {},
   "outputs": [
    {
     "data": {
      "text/html": [
       "<div>\n",
       "<style scoped>\n",
       "    .dataframe tbody tr th:only-of-type {\n",
       "        vertical-align: middle;\n",
       "    }\n",
       "\n",
       "    .dataframe tbody tr th {\n",
       "        vertical-align: top;\n",
       "    }\n",
       "\n",
       "    .dataframe thead th {\n",
       "        text-align: right;\n",
       "    }\n",
       "</style>\n",
       "<table border=\"1\" class=\"dataframe\">\n",
       "  <thead>\n",
       "    <tr style=\"text-align: right;\">\n",
       "      <th></th>\n",
       "      <th>Area</th>\n",
       "      <th>agreed_staffing_ratios_risk_percentage</th>\n",
       "    </tr>\n",
       "  </thead>\n",
       "  <tbody>\n",
       "    <tr>\n",
       "      <th>0</th>\n",
       "      <td>Barking and Dagenham</td>\n",
       "      <td>0.000000</td>\n",
       "    </tr>\n",
       "    <tr>\n",
       "      <th>1</th>\n",
       "      <td>Barnet</td>\n",
       "      <td>0.563043</td>\n",
       "    </tr>\n",
       "    <tr>\n",
       "      <th>2</th>\n",
       "      <td>Barnsley</td>\n",
       "      <td>1.321739</td>\n",
       "    </tr>\n",
       "    <tr>\n",
       "      <th>3</th>\n",
       "      <td>Bath and North East Somerset</td>\n",
       "      <td>6.691304</td>\n",
       "    </tr>\n",
       "    <tr>\n",
       "      <th>4</th>\n",
       "      <td>Bedford</td>\n",
       "      <td>5.136957</td>\n",
       "    </tr>\n",
       "    <tr>\n",
       "      <th>...</th>\n",
       "      <td>...</td>\n",
       "      <td>...</td>\n",
       "    </tr>\n",
       "    <tr>\n",
       "      <th>146</th>\n",
       "      <td>Wirral</td>\n",
       "      <td>4.586957</td>\n",
       "    </tr>\n",
       "    <tr>\n",
       "      <th>147</th>\n",
       "      <td>Wokingham</td>\n",
       "      <td>0.000000</td>\n",
       "    </tr>\n",
       "    <tr>\n",
       "      <th>148</th>\n",
       "      <td>Wolverhampton</td>\n",
       "      <td>0.713043</td>\n",
       "    </tr>\n",
       "    <tr>\n",
       "      <th>149</th>\n",
       "      <td>Worcestershire</td>\n",
       "      <td>3.128261</td>\n",
       "    </tr>\n",
       "    <tr>\n",
       "      <th>150</th>\n",
       "      <td>York</td>\n",
       "      <td>0.000000</td>\n",
       "    </tr>\n",
       "  </tbody>\n",
       "</table>\n",
       "<p>151 rows × 2 columns</p>\n",
       "</div>"
      ],
      "text/plain": [
       "                             Area  agreed_staffing_ratios_risk_percentage\n",
       "0            Barking and Dagenham                                0.000000\n",
       "1                          Barnet                                0.563043\n",
       "2                        Barnsley                                1.321739\n",
       "3    Bath and North East Somerset                                6.691304\n",
       "4                         Bedford                                5.136957\n",
       "..                            ...                                     ...\n",
       "146                        Wirral                                4.586957\n",
       "147                     Wokingham                                0.000000\n",
       "148                 Wolverhampton                                0.713043\n",
       "149                Worcestershire                                3.128261\n",
       "150                          York                                0.000000\n",
       "\n",
       "[151 rows x 2 columns]"
      ]
     },
     "execution_count": 51,
     "metadata": {},
     "output_type": "execute_result"
    }
   ],
   "source": [
    "# Subtract the agreed staffing ratios no risk percentage from 100 to get the agreed staffing ratios at risk percentage\n",
    "# (this covers all classifications of such staff and is more computationally efficient)\n",
    "# Remove superflous columns and view the data frame\n",
    "staffing_ratios['agreed_staffing_ratios_no_risk_list'] = mean_percentage\n",
    "staffing_ratios['agreed_staffing_ratios_risk_percentage'] = 100 - staffing_ratios['agreed_staffing_ratios_no_risk_list']\n",
    "staffing_ratios = staffing_ratios[['Area', 'agreed_staffing_ratios_risk_percentage']]\n",
    "staffing_ratios"
   ]
  },
  {
   "cell_type": "markdown",
   "id": "fdc48aa8-c9e0-4c30-9f3d-692d435e6b46",
   "metadata": {},
   "source": [
    "**Merge dependent and independent variable data frames**"
   ]
  },
  {
   "cell_type": "code",
   "execution_count": 53,
   "id": "0df95fea-4928-4d31-abe3-2c0e1544bff5",
   "metadata": {},
   "outputs": [
    {
     "data": {
      "text/html": [
       "<div>\n",
       "<style scoped>\n",
       "    .dataframe tbody tr th:only-of-type {\n",
       "        vertical-align: middle;\n",
       "    }\n",
       "\n",
       "    .dataframe tbody tr th {\n",
       "        vertical-align: top;\n",
       "    }\n",
       "\n",
       "    .dataframe thead th {\n",
       "        text-align: right;\n",
       "    }\n",
       "</style>\n",
       "<table border=\"1\" class=\"dataframe\">\n",
       "  <thead>\n",
       "    <tr style=\"text-align: right;\">\n",
       "      <th></th>\n",
       "      <th>Area</th>\n",
       "      <th>resident_vaccination_rate_increase</th>\n",
       "      <th>staff_vaccination_rate_increase</th>\n",
       "      <th>visting_allowed_percentage</th>\n",
       "      <th>underpaid_islolating_staff_percentage</th>\n",
       "      <th>multiple_care_homes_worked_percentage</th>\n",
       "      <th>agreed_staffing_ratios_risk_percentage</th>\n",
       "      <th>average_death_count</th>\n",
       "    </tr>\n",
       "  </thead>\n",
       "  <tbody>\n",
       "    <tr>\n",
       "      <th>0</th>\n",
       "      <td>Barking and Dagenham</td>\n",
       "      <td>2.167442</td>\n",
       "      <td>2.268889</td>\n",
       "      <td>74.073333</td>\n",
       "      <td>0.000000</td>\n",
       "      <td>29.143478</td>\n",
       "      <td>0.000000</td>\n",
       "      <td>1.565217</td>\n",
       "    </tr>\n",
       "    <tr>\n",
       "      <th>1</th>\n",
       "      <td>Barnet</td>\n",
       "      <td>2.200000</td>\n",
       "      <td>2.076087</td>\n",
       "      <td>63.247826</td>\n",
       "      <td>10.684783</td>\n",
       "      <td>23.397826</td>\n",
       "      <td>0.563043</td>\n",
       "      <td>5.214286</td>\n",
       "    </tr>\n",
       "    <tr>\n",
       "      <th>2</th>\n",
       "      <td>Barnsley</td>\n",
       "      <td>2.197778</td>\n",
       "      <td>2.133333</td>\n",
       "      <td>78.778261</td>\n",
       "      <td>45.115217</td>\n",
       "      <td>15.215217</td>\n",
       "      <td>1.321739</td>\n",
       "      <td>3.714286</td>\n",
       "    </tr>\n",
       "    <tr>\n",
       "      <th>3</th>\n",
       "      <td>Bath and North East Somerset</td>\n",
       "      <td>2.357143</td>\n",
       "      <td>2.284091</td>\n",
       "      <td>76.730435</td>\n",
       "      <td>6.908696</td>\n",
       "      <td>24.913043</td>\n",
       "      <td>6.691304</td>\n",
       "      <td>4.764706</td>\n",
       "    </tr>\n",
       "    <tr>\n",
       "      <th>4</th>\n",
       "      <td>Bedford</td>\n",
       "      <td>2.504878</td>\n",
       "      <td>2.351163</td>\n",
       "      <td>72.347826</td>\n",
       "      <td>21.354348</td>\n",
       "      <td>28.856522</td>\n",
       "      <td>5.136957</td>\n",
       "      <td>1.914286</td>\n",
       "    </tr>\n",
       "    <tr>\n",
       "      <th>...</th>\n",
       "      <td>...</td>\n",
       "      <td>...</td>\n",
       "      <td>...</td>\n",
       "      <td>...</td>\n",
       "      <td>...</td>\n",
       "      <td>...</td>\n",
       "      <td>...</td>\n",
       "      <td>...</td>\n",
       "    </tr>\n",
       "    <tr>\n",
       "      <th>121</th>\n",
       "      <td>Windsor and Maidenhead</td>\n",
       "      <td>2.239130</td>\n",
       "      <td>2.089130</td>\n",
       "      <td>84.782609</td>\n",
       "      <td>31.917391</td>\n",
       "      <td>23.508696</td>\n",
       "      <td>0.000000</td>\n",
       "      <td>3.916667</td>\n",
       "    </tr>\n",
       "    <tr>\n",
       "      <th>122</th>\n",
       "      <td>Wirral</td>\n",
       "      <td>2.167391</td>\n",
       "      <td>2.045652</td>\n",
       "      <td>68.526087</td>\n",
       "      <td>12.973913</td>\n",
       "      <td>22.447826</td>\n",
       "      <td>4.586957</td>\n",
       "      <td>6.000000</td>\n",
       "    </tr>\n",
       "    <tr>\n",
       "      <th>123</th>\n",
       "      <td>Wokingham</td>\n",
       "      <td>3.259091</td>\n",
       "      <td>2.145652</td>\n",
       "      <td>85.352174</td>\n",
       "      <td>0.000000</td>\n",
       "      <td>23.119565</td>\n",
       "      <td>0.000000</td>\n",
       "      <td>3.741935</td>\n",
       "    </tr>\n",
       "    <tr>\n",
       "      <th>124</th>\n",
       "      <td>Wolverhampton</td>\n",
       "      <td>2.193182</td>\n",
       "      <td>2.113043</td>\n",
       "      <td>67.317391</td>\n",
       "      <td>30.569565</td>\n",
       "      <td>28.328261</td>\n",
       "      <td>0.713043</td>\n",
       "      <td>4.692308</td>\n",
       "    </tr>\n",
       "    <tr>\n",
       "      <th>125</th>\n",
       "      <td>York</td>\n",
       "      <td>2.360465</td>\n",
       "      <td>2.261364</td>\n",
       "      <td>86.517391</td>\n",
       "      <td>0.000000</td>\n",
       "      <td>0.000000</td>\n",
       "      <td>0.000000</td>\n",
       "      <td>3.684211</td>\n",
       "    </tr>\n",
       "  </tbody>\n",
       "</table>\n",
       "<p>126 rows × 8 columns</p>\n",
       "</div>"
      ],
      "text/plain": [
       "                             Area  resident_vaccination_rate_increase  \\\n",
       "0            Barking and Dagenham                            2.167442   \n",
       "1                          Barnet                            2.200000   \n",
       "2                        Barnsley                            2.197778   \n",
       "3    Bath and North East Somerset                            2.357143   \n",
       "4                         Bedford                            2.504878   \n",
       "..                            ...                                 ...   \n",
       "121        Windsor and Maidenhead                            2.239130   \n",
       "122                        Wirral                            2.167391   \n",
       "123                     Wokingham                            3.259091   \n",
       "124                 Wolverhampton                            2.193182   \n",
       "125                          York                            2.360465   \n",
       "\n",
       "     staff_vaccination_rate_increase  visting_allowed_percentage  \\\n",
       "0                           2.268889                   74.073333   \n",
       "1                           2.076087                   63.247826   \n",
       "2                           2.133333                   78.778261   \n",
       "3                           2.284091                   76.730435   \n",
       "4                           2.351163                   72.347826   \n",
       "..                               ...                         ...   \n",
       "121                         2.089130                   84.782609   \n",
       "122                         2.045652                   68.526087   \n",
       "123                         2.145652                   85.352174   \n",
       "124                         2.113043                   67.317391   \n",
       "125                         2.261364                   86.517391   \n",
       "\n",
       "     underpaid_islolating_staff_percentage  \\\n",
       "0                                 0.000000   \n",
       "1                                10.684783   \n",
       "2                                45.115217   \n",
       "3                                 6.908696   \n",
       "4                                21.354348   \n",
       "..                                     ...   \n",
       "121                              31.917391   \n",
       "122                              12.973913   \n",
       "123                               0.000000   \n",
       "124                              30.569565   \n",
       "125                               0.000000   \n",
       "\n",
       "     multiple_care_homes_worked_percentage  \\\n",
       "0                                29.143478   \n",
       "1                                23.397826   \n",
       "2                                15.215217   \n",
       "3                                24.913043   \n",
       "4                                28.856522   \n",
       "..                                     ...   \n",
       "121                              23.508696   \n",
       "122                              22.447826   \n",
       "123                              23.119565   \n",
       "124                              28.328261   \n",
       "125                               0.000000   \n",
       "\n",
       "     agreed_staffing_ratios_risk_percentage  average_death_count  \n",
       "0                                  0.000000             1.565217  \n",
       "1                                  0.563043             5.214286  \n",
       "2                                  1.321739             3.714286  \n",
       "3                                  6.691304             4.764706  \n",
       "4                                  5.136957             1.914286  \n",
       "..                                      ...                  ...  \n",
       "121                                0.000000             3.916667  \n",
       "122                                4.586957             6.000000  \n",
       "123                                0.000000             3.741935  \n",
       "124                                0.713043             4.692308  \n",
       "125                                0.000000             3.684211  \n",
       "\n",
       "[126 rows x 8 columns]"
      ]
     },
     "execution_count": 53,
     "metadata": {},
     "output_type": "execute_result"
    }
   ],
   "source": [
    "# Merge all data frames on the 'Area' column and view the data frame\n",
    "merged_data_frame = vaccination_rates.merge(visting_allowed_percentage, on='Area')\n",
    "merged_data_frame = merged_data_frame.merge(isolating_staff_percentage, on='Area')\n",
    "merged_data_frame = merged_data_frame.merge(carehomes_worked, on='Area')\n",
    "merged_data_frame = merged_data_frame.merge(staffing_ratios, on='Area')\n",
    "merged_data_frame = merged_data_frame.merge(average_death_count, on='Area')\n",
    "merged_data_frame"
   ]
  },
  {
   "cell_type": "markdown",
   "id": "2f3712a3-1f46-4f06-80d2-986088dc94ae",
   "metadata": {},
   "source": [
    "**Extract independent variables and carry out multicollinearity check**"
   ]
  },
  {
   "cell_type": "code",
   "execution_count": 54,
   "id": "49c7de06-a802-432d-9140-2bcd1bc6c568",
   "metadata": {},
   "outputs": [],
   "source": [
    "# Extract indepdent variables from data frame\n",
    "INDEPENDENT_VARIABLES = merged_data_frame[['resident_vaccination_rate_increase',\n",
    "                                           'staff_vaccination_rate_increase',\n",
    "                                           'visting_allowed_percentage',\n",
    "                                           'underpaid_islolating_staff_percentage',\n",
    "                                           'multiple_care_homes_worked_percentage',\n",
    "                                           'agreed_staffing_ratios_risk_percentage']]"
   ]
  },
  {
   "cell_type": "markdown",
   "id": "ef11057d-8625-49e5-9169-0437654a8e34",
   "metadata": {},
   "source": [
    "Multicollinearity indicates the extent to which one independent variable can be predicted by other independent variables thereby potentially reducing the accuracy of a linear regression model’s results. In order to avoid this the variance inflation factor (VIF) score of these variables can be used to remove any variables that potentially contribute to multicollinearity.\n",
    "\n",
    "The following function is borrowed from Quantitative Methods tutorial 4 (CASA0007) and calculates the VIF score of each independent variable and returns a dataframe containing only those independent variables that have a VIF score of less than 5 (which is used as a default threshold)\n",
    "\n",
    "Source: https://moodle.ucl.ac.uk/pluginfile.php/3532739/mod_resource/content/6/Practical_advanced_regression_UPDATED.ipynb"
   ]
  },
  {
   "cell_type": "code",
   "execution_count": 55,
   "id": "af278da8-50de-43c2-917f-f17577b9d0ed",
   "metadata": {},
   "outputs": [],
   "source": [
    "def drop_column_using_vif_(df, thresh=5):\n",
    "    '''\n",
    "    Calculates VIF each feature in a pandas dataframe, and repeatedly drop the columns with the highest VIF\n",
    "    A constant must be added to variance_inflation_factor or the results will be incorrect\n",
    "\n",
    "    :param df: the pandas dataframe containing only the predictor features, not the response variable\n",
    "    :param thresh: (default 5) the threshould VIF value. If the VIF of a variable is greater than thresh, it should be removed from the dataframe\n",
    "    :return: dataframe with multicollinear features removed\n",
    "    '''\n",
    "    while True:\n",
    "        # adding a constatnt item to the data\n",
    "        df_with_const = add_constant(df)\n",
    "\n",
    "        vif_df = pd.Series([variance_inflation_factor(df_with_const.values, i) for i in range(df_with_const.shape[1])],\n",
    "                           name=\"VIF\",\n",
    "                           index=df_with_const.columns).to_frame()\n",
    "\n",
    "        # drop the const\n",
    "        vif_df = vif_df.drop('const')\n",
    "        # if the largest VIF is above the thresh, remove a variable with the largest VIF\n",
    "        # If there are multiple variabels with VIF>thresh, only one of them is removed. This is because we want to keep as many variables as possible\n",
    "        if vif_df.VIF.max() > thresh:\n",
    "            # If there are multiple variables with the maximum VIF, choose the first one\n",
    "            index_to_drop = vif_df.index[vif_df.VIF == vif_df.VIF.max()].tolist()[0]\n",
    "            print('Dropping: {}'.format(index_to_drop))\n",
    "            df = df.drop(columns=index_to_drop)\n",
    "        else:\n",
    "            # No VIF is above threshold. Exit the loop\n",
    "            break\n",
    "\n",
    "    return df"
   ]
  },
  {
   "cell_type": "code",
   "execution_count": 56,
   "id": "b822d957-9954-4601-a478-2fa8cdbeb59a",
   "metadata": {},
   "outputs": [
    {
     "name": "stderr",
     "output_type": "stream",
     "text": [
      "/opt/conda/envs/sds2021/lib/python3.9/site-packages/statsmodels/tsa/tsatools.py:142: FutureWarning: In a future version of pandas all arguments of concat except for the argument 'objs' will be keyword-only\n",
      "  x = pd.concat(x[::order], 1)\n"
     ]
    }
   ],
   "source": [
    "# Call the above function to drop any columns of data that have a VIF score above 5\n",
    "new_df = drop_column_using_vif_(INDEPENDENT_VARIABLES)"
   ]
  },
  {
   "cell_type": "markdown",
   "id": "cdd7cde2-e908-447b-9c9f-a245ddef8da8",
   "metadata": {},
   "source": [
    "**Perform ordinary least squares linear regression**"
   ]
  },
  {
   "cell_type": "code",
   "execution_count": 57,
   "id": "2b227ba4-5984-4717-b240-f4829043f6eb",
   "metadata": {},
   "outputs": [
    {
     "data": {
      "text/html": [
       "<table class=\"simpletable\">\n",
       "<caption>OLS Regression Results</caption>\n",
       "<tr>\n",
       "  <th>Dep. Variable:</th>    <td>average_death_count</td> <th>  R-squared:         </th> <td>   0.142</td>\n",
       "</tr>\n",
       "<tr>\n",
       "  <th>Model:</th>                    <td>OLS</td>         <th>  Adj. R-squared:    </th> <td>   0.099</td>\n",
       "</tr>\n",
       "<tr>\n",
       "  <th>Method:</th>              <td>Least Squares</td>    <th>  F-statistic:       </th> <td>   3.284</td>\n",
       "</tr>\n",
       "<tr>\n",
       "  <th>Date:</th>              <td>Thu, 13 Jan 2022</td>   <th>  Prob (F-statistic):</th>  <td>0.00502</td>\n",
       "</tr>\n",
       "<tr>\n",
       "  <th>Time:</th>                  <td>20:06:15</td>       <th>  Log-Likelihood:    </th> <td> -222.01</td>\n",
       "</tr>\n",
       "<tr>\n",
       "  <th>No. Observations:</th>       <td>   126</td>        <th>  AIC:               </th> <td>   458.0</td>\n",
       "</tr>\n",
       "<tr>\n",
       "  <th>Df Residuals:</th>           <td>   119</td>        <th>  BIC:               </th> <td>   477.9</td>\n",
       "</tr>\n",
       "<tr>\n",
       "  <th>Df Model:</th>               <td>     6</td>        <th>                     </th>     <td> </td>   \n",
       "</tr>\n",
       "<tr>\n",
       "  <th>Covariance Type:</th>       <td>nonrobust</td>      <th>                     </th>     <td> </td>   \n",
       "</tr>\n",
       "</table>\n",
       "<table class=\"simpletable\">\n",
       "<tr>\n",
       "                     <td></td>                       <th>coef</th>     <th>std err</th>      <th>t</th>      <th>P>|t|</th>  <th>[0.025</th>    <th>0.975]</th>  \n",
       "</tr>\n",
       "<tr>\n",
       "  <th>const</th>                                  <td>    3.5302</td> <td>    1.538</td> <td>    2.296</td> <td> 0.023</td> <td>    0.485</td> <td>    6.575</td>\n",
       "</tr>\n",
       "<tr>\n",
       "  <th>resident_vaccination_rate_increase</th>     <td>   -0.0025</td> <td>    0.222</td> <td>   -0.011</td> <td> 0.991</td> <td>   -0.443</td> <td>    0.438</td>\n",
       "</tr>\n",
       "<tr>\n",
       "  <th>staff_vaccination_rate_increase</th>        <td>   -0.2651</td> <td>    0.423</td> <td>   -0.626</td> <td> 0.532</td> <td>   -1.103</td> <td>    0.573</td>\n",
       "</tr>\n",
       "<tr>\n",
       "  <th>visting_allowed_percentage</th>             <td>    0.0031</td> <td>    0.019</td> <td>    0.163</td> <td> 0.871</td> <td>   -0.034</td> <td>    0.041</td>\n",
       "</tr>\n",
       "<tr>\n",
       "  <th>underpaid_islolating_staff_percentage</th>  <td>    0.0276</td> <td>    0.012</td> <td>    2.335</td> <td> 0.021</td> <td>    0.004</td> <td>    0.051</td>\n",
       "</tr>\n",
       "<tr>\n",
       "  <th>multiple_care_homes_worked_percentage</th>  <td>    0.0040</td> <td>    0.013</td> <td>    0.300</td> <td> 0.764</td> <td>   -0.022</td> <td>    0.030</td>\n",
       "</tr>\n",
       "<tr>\n",
       "  <th>agreed_staffing_ratios_risk_percentage</th> <td>    0.1761</td> <td>    0.051</td> <td>    3.458</td> <td> 0.001</td> <td>    0.075</td> <td>    0.277</td>\n",
       "</tr>\n",
       "</table>\n",
       "<table class=\"simpletable\">\n",
       "<tr>\n",
       "  <th>Omnibus:</th>       <td>25.155</td> <th>  Durbin-Watson:     </th> <td>   2.068</td>\n",
       "</tr>\n",
       "<tr>\n",
       "  <th>Prob(Omnibus):</th> <td> 0.000</td> <th>  Jarque-Bera (JB):  </th> <td>  38.842</td>\n",
       "</tr>\n",
       "<tr>\n",
       "  <th>Skew:</th>          <td> 0.967</td> <th>  Prob(JB):          </th> <td>3.68e-09</td>\n",
       "</tr>\n",
       "<tr>\n",
       "  <th>Kurtosis:</th>      <td> 4.913</td> <th>  Cond. No.          </th> <td>    967.</td>\n",
       "</tr>\n",
       "</table><br/><br/>Notes:<br/>[1] Standard Errors assume that the covariance matrix of the errors is correctly specified."
      ],
      "text/plain": [
       "<class 'statsmodels.iolib.summary.Summary'>\n",
       "\"\"\"\n",
       "                             OLS Regression Results                            \n",
       "===============================================================================\n",
       "Dep. Variable:     average_death_count   R-squared:                       0.142\n",
       "Model:                             OLS   Adj. R-squared:                  0.099\n",
       "Method:                  Least Squares   F-statistic:                     3.284\n",
       "Date:                 Thu, 13 Jan 2022   Prob (F-statistic):            0.00502\n",
       "Time:                         20:06:15   Log-Likelihood:                -222.01\n",
       "No. Observations:                  126   AIC:                             458.0\n",
       "Df Residuals:                      119   BIC:                             477.9\n",
       "Df Model:                            6                                         \n",
       "Covariance Type:             nonrobust                                         \n",
       "==========================================================================================================\n",
       "                                             coef    std err          t      P>|t|      [0.025      0.975]\n",
       "----------------------------------------------------------------------------------------------------------\n",
       "const                                      3.5302      1.538      2.296      0.023       0.485       6.575\n",
       "resident_vaccination_rate_increase        -0.0025      0.222     -0.011      0.991      -0.443       0.438\n",
       "staff_vaccination_rate_increase           -0.2651      0.423     -0.626      0.532      -1.103       0.573\n",
       "visting_allowed_percentage                 0.0031      0.019      0.163      0.871      -0.034       0.041\n",
       "underpaid_islolating_staff_percentage      0.0276      0.012      2.335      0.021       0.004       0.051\n",
       "multiple_care_homes_worked_percentage      0.0040      0.013      0.300      0.764      -0.022       0.030\n",
       "agreed_staffing_ratios_risk_percentage     0.1761      0.051      3.458      0.001       0.075       0.277\n",
       "==============================================================================\n",
       "Omnibus:                       25.155   Durbin-Watson:                   2.068\n",
       "Prob(Omnibus):                  0.000   Jarque-Bera (JB):               38.842\n",
       "Skew:                           0.967   Prob(JB):                     3.68e-09\n",
       "Kurtosis:                       4.913   Cond. No.                         967.\n",
       "==============================================================================\n",
       "\n",
       "Notes:\n",
       "[1] Standard Errors assume that the covariance matrix of the errors is correctly specified.\n",
       "\"\"\""
      ]
     },
     "execution_count": 57,
     "metadata": {},
     "output_type": "execute_result"
    }
   ],
   "source": [
    "stats = sm.OLS(endog=merged_data_frame['average_death_count'], exog=sm.add_constant(new_df)).fit()\n",
    "stats.summary()"
   ]
  },
  {
   "cell_type": "markdown",
   "id": "576a7fdd-76dd-4057-b927-c107cdecac3a",
   "metadata": {},
   "source": [
    "**Visualise relationship between select independent variables (with low P-values) and the dependent variable**"
   ]
  },
  {
   "cell_type": "code",
   "execution_count": 60,
   "id": "ece3dec7-430e-4d68-bad6-076e44db7ca3",
   "metadata": {},
   "outputs": [
    {
     "data": {
      "image/png": "[encoded data removed]",
      "text/plain": [
       "<Figure size 720x720 with 1 Axes>"
      ]
     },
     "metadata": {},
     "output_type": "display_data"
    }
   ],
   "source": [
    "sn.set(style=\"whitegrid\")\n",
    "\n",
    "# Variables\n",
    "x = merged_data_frame['underpaid_islolating_staff_percentage']\n",
    "y = merged_data_frame['agreed_staffing_ratios_risk_percentage']\n",
    "z = merged_data_frame['average_death_count']\n",
    "\n",
    "# For the scatter plot\n",
    "fig = plt.figure(figsize=(10, 10))\n",
    "ax = fig.add_subplot(projection='3d')\n",
    "ax.set_xlabel('Under paid isolating staff percentage')\n",
    "ax.set_ylabel('Agreed staffing ratios risk percentage')\n",
    "ax.set_zlabel('Average death count')\n",
    "\n",
    "# To determine the plane of best fit\n",
    "xModel = np.linspace(min(x), max(x))\n",
    "yModel = np.linspace(min(y), max(y))\n",
    "X, Y = np.meshgrid(xModel, yModel)\n",
    "Z = 0.0296 - 0.0003 * X + 0.0011 * Y\n",
    "\n",
    "# Plotting the plane of best fit and the scatter plot\n",
    "ax.plot_surface(X, Y, Z, rstride=1, cstride=1, alpha=0.1, color='blue')\n",
    "ax.scatter(x, y, z, color='black')\n",
    "plt.show()"
   ]
  },
  {
   "cell_type": "markdown",
   "id": "51409a57-cfab-4936-ad7f-6775cc38c541",
   "metadata": {},
   "source": [
    "**Perform a fitted vs residual analysis**"
   ]
  },
  {
   "cell_type": "code",
   "execution_count": 59,
   "id": "3c6d029d-e48a-4955-bb42-680750bf90a2",
   "metadata": {},
   "outputs": [
    {
     "data": {
      "image/png": "[encoded data removed]",
      "text/plain": [
       "<Figure size 432x288 with 1 Axes>"
      ]
     },
     "metadata": {},
     "output_type": "display_data"
    }
   ],
   "source": [
    "plt.scatter(stats.fittedvalues, stats.resid, color='black')\n",
    "# adding title and labels\n",
    "plt.xlabel('Fitted')\n",
    "plt.ylabel('Residual')\n",
    "plt.title('Residual vs. Fitted Plot')\n",
    "plt.show()"
   ]
  }
 ],
 "metadata": {
  "kernelspec": {
   "display_name": "Python 3 (ipykernel)",
   "language": "python",
   "name": "python3"
  },
  "language_info": {
   "codemirror_mode": {
    "name": "ipython",
    "version": 3
   },
   "file_extension": ".py",
   "mimetype": "text/x-python",
   "name": "python",
   "nbconvert_exporter": "python",
   "pygments_lexer": "ipython3",
   "version": "3.9.6"
  }
 },
 "nbformat": 4,
 "nbformat_minor": 5
}
